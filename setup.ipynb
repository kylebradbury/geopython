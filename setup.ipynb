{
 "cells": [
  {
   "cell_type": "markdown",
   "metadata": {},
   "source": [
    "# Setting up your environment\n",
    "\n",
    "There are a few steps recommended for beginning working with geospatial packages:\n",
    "1. Since there are many dependencies, begin by creating a virtual environment for your Python geospatial work.\n",
    "2. Install the required dependencies:\n",
    "    - numpy\n",
    "    - matplotlib\n",
    "    - pandas\n",
    "    - geopandas\n",
    "    - rasterio\n",
    "    - [Google Earth Engine (earthengine-api)](https://developers.google.com/earth-engine/guides/python_install). Be sure that you can successfully run `ee.Initialize` before proceeding\n",
    "3. Activate your Python environment before beginning your analyses\n",
    "\n",
    "I personally recommend the use of an integrated development environment (IDE) and [VS Code](https://code.visualstudio.com/) is my recommended IDE."
   ]
  }
 ],
 "metadata": {
  "language_info": {
   "name": "python"
  },
  "orig_nbformat": 4
 },
 "nbformat": 4,
 "nbformat_minor": 2
}
